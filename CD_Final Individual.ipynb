{
 "cells": [
  {
   "cell_type": "code",
   "execution_count": 1,
   "id": "dfd00e2e",
   "metadata": {},
   "outputs": [],
   "source": [
    "# Import necessary libraries\n",
    "import os\n",
    "import pandas as pd\n",
    "import nltk\n",
    "from nltk.tokenize import word_tokenize\n",
    "from nltk.stem import WordNetLemmatizer\n",
    "from nltk import pos_tag\n",
    "from nltk.corpus import stopwords"
   ]
  },
  {
   "cell_type": "code",
   "execution_count": 2,
   "id": "2faa1cc3",
   "metadata": {},
   "outputs": [
    {
     "name": "stderr",
     "output_type": "stream",
     "text": [
      "[nltk_data] Downloading package punkt to\n",
      "[nltk_data]     C:\\Users\\ASUS\\AppData\\Roaming\\nltk_data...\n",
      "[nltk_data]   Package punkt is already up-to-date!\n",
      "[nltk_data] Downloading package wordnet to\n",
      "[nltk_data]     C:\\Users\\ASUS\\AppData\\Roaming\\nltk_data...\n",
      "[nltk_data]   Package wordnet is already up-to-date!\n",
      "[nltk_data] Downloading package stopwords to\n",
      "[nltk_data]     C:\\Users\\ASUS\\AppData\\Roaming\\nltk_data...\n",
      "[nltk_data]   Package stopwords is already up-to-date!\n",
      "[nltk_data] Downloading package averaged_perceptron_tagger to\n",
      "[nltk_data]     C:\\Users\\ASUS\\AppData\\Roaming\\nltk_data...\n",
      "[nltk_data]   Package averaged_perceptron_tagger is already up-to-\n",
      "[nltk_data]       date!\n"
     ]
    },
    {
     "data": {
      "text/plain": [
       "True"
      ]
     },
     "execution_count": 2,
     "metadata": {},
     "output_type": "execute_result"
    }
   ],
   "source": [
    "# Download NLTK data\n",
    "nltk.download('punkt')\n",
    "nltk.download('wordnet')\n",
    "nltk.download('stopwords')\n",
    "nltk.download('averaged_perceptron_tagger')"
   ]
  },
  {
   "cell_type": "code",
   "execution_count": 3,
   "id": "3b3a6629",
   "metadata": {},
   "outputs": [],
   "source": [
    "# Define a function to process texts\n",
    "def preprocess_text(text):\n",
    "    # Get a collection of English stopwords\n",
    "    stop_words = set(stopwords.words('english'))\n",
    "    # Tokenization\n",
    "    tokens = word_tokenize(text)\n",
    "    tokens = [word.lower() for word in tokens if word.isalpha() and word.lower() not in stop_words]\n",
    "    # Lemmatization\n",
    "    lemmatizer = WordNetLemmatizer()\n",
    "    lemmas = [lemmatizer.lemmatize(word) for word in tokens]\n",
    "    # POS tagging\n",
    "    pos_tags = pos_tag(tokens)\n",
    "    return tokens, lemmas, pos_tags"
   ]
  },
  {
   "cell_type": "code",
   "execution_count": 4,
   "id": "5a5f914c",
   "metadata": {},
   "outputs": [],
   "source": [
    "# Process each file\n",
    "def process_file(file_path):\n",
    "    with open(file_path, 'r', encoding='utf-8') as file:\n",
    "        text = file.read()\n",
    "        tokens, lemmas, pos_tags = preprocess_text(text)\n",
    "        cleaned_text = ' '.join(tokens)  \n",
    "        return text, cleaned_text, tokens, lemmas, pos_tags"
   ]
  },
  {
   "cell_type": "code",
   "execution_count": 5,
   "id": "5fa5afad",
   "metadata": {},
   "outputs": [],
   "source": [
    "# Create a list to store data\n",
    "data = []\n",
    "\n",
    "# Acquire the folder path\n",
    "folder_path = r'C:\\Users\\ASUS\\Desktop\\CD_Individual Project\\Data'  "
   ]
  },
  {
   "cell_type": "code",
   "execution_count": 6,
   "id": "b9d0eb00",
   "metadata": {},
   "outputs": [],
   "source": [
    "# Loop through all the files in the folder\n",
    "for filename in os.listdir(folder_path):\n",
    "    if filename.endswith(\".txt\"):\n",
    "        file_path = os.path.join(folder_path, filename)\n",
    "        # Call the function for each file\n",
    "        text, cleaned_text, tokens, lemmas, pos_tags = process_file(file_path)\n",
    "        # Add data\n",
    "        data.append({\n",
    "            'Filename': filename,\n",
    "            'Document': text,\n",
    "            'Text': cleaned_text,\n",
    "            'Tokens': tokens,\n",
    "            'Lemmas': lemmas,\n",
    "            'Parts-of-speech': pos_tags\n",
    "        })"
   ]
  },
  {
   "cell_type": "code",
   "execution_count": 7,
   "id": "acf70cd5",
   "metadata": {},
   "outputs": [],
   "source": [
    "# Create DataFrame\n",
    "df = pd.DataFrame(data)"
   ]
  },
  {
   "cell_type": "code",
   "execution_count": 8,
   "id": "3bde7fcb",
   "metadata": {},
   "outputs": [],
   "source": [
    "# Save DataFrame as a CSV\n",
    "csv_filename = 'output.csv'\n",
    "df.to_csv(csv_filename, index=False)"
   ]
  }
 ],
 "metadata": {
  "kernelspec": {
   "display_name": "Python 3 (ipykernel)",
   "language": "python",
   "name": "python3"
  },
  "language_info": {
   "codemirror_mode": {
    "name": "ipython",
    "version": 3
   },
   "file_extension": ".py",
   "mimetype": "text/x-python",
   "name": "python",
   "nbconvert_exporter": "python",
   "pygments_lexer": "ipython3",
   "version": "3.11.4"
  }
 },
 "nbformat": 4,
 "nbformat_minor": 5
}
