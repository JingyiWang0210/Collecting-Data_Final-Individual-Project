{
 "cells": [
  {
   "cell_type": "code",
   "execution_count": 1,
   "id": "47cbf195",
   "metadata": {},
   "outputs": [
    {
     "name": "stdout",
     "output_type": "stream",
     "text": [
      "Requirement already satisfied: beautifulsoup4 in c:\\users\\asus\\creative cloud files\\lib\\site-packages (4.12.2)\n",
      "Requirement already satisfied: soupsieve>1.2 in c:\\users\\asus\\creative cloud files\\lib\\site-packages (from beautifulsoup4) (2.4)\n",
      "Requirement already satisfied: requests in c:\\users\\asus\\creative cloud files\\lib\\site-packages (2.31.0)\n",
      "Requirement already satisfied: charset-normalizer<4,>=2 in c:\\users\\asus\\creative cloud files\\lib\\site-packages (from requests) (2.0.4)\n",
      "Requirement already satisfied: idna<4,>=2.5 in c:\\users\\asus\\creative cloud files\\lib\\site-packages (from requests) (3.4)\n",
      "Requirement already satisfied: urllib3<3,>=1.21.1 in c:\\users\\asus\\creative cloud files\\lib\\site-packages (from requests) (1.26.16)\n",
      "Requirement already satisfied: certifi>=2017.4.17 in c:\\users\\asus\\creative cloud files\\lib\\site-packages (from requests) (2023.7.22)\n"
     ]
    }
   ],
   "source": [
    "# Install necessary packages\n",
    "!pip install beautifulsoup4\n",
    "!pip install requests"
   ]
  },
  {
   "cell_type": "code",
   "execution_count": 2,
   "id": "fdea9500",
   "metadata": {},
   "outputs": [
    {
     "name": "stdout",
     "output_type": "stream",
     "text": [
      "The text was successfully saved as C:\\Users\\ASUS\\Desktop\\Final Individual\\Film focuses on puppy love - Chinadaily.com.cn.txt (https://www.chinadaily.com.cn/a/202311/30/WS65683a34a31090682a5f0cc3.html)\n",
      "The text was successfully saved as C:\\Users\\ASUS\\Desktop\\Final Individual\\Film explores rise and fall of France's emperor - Chinadaily.com.cn.txt (https://www.chinadaily.com.cn/a/202311/30/WS65680df3a31090682a5f0c39.html)\n",
      "The text was successfully saved as C:\\Users\\ASUS\\Desktop\\Final Individual\\The 10th Asia Microfilm Art Festival hosted in Lincang - Chinadaily.com.cn.txt (https://www.chinadaily.com.cn/a/202311/29/WS6566ec00a31090682a5f09a4.html)\n",
      "The text was successfully saved as C:\\Users\\ASUS\\Desktop\\Final Individual\\iQIYI awards exceptional content at Macao event - Chinadaily.com.cn.txt (https://www.chinadaily.com.cn/a/202311/29/WS6566dc9fa31090682a5f0958.html)\n",
      "The text was successfully saved as C:\\Users\\ASUS\\Desktop\\Final Individual\\Documentary frames international artists in China - Chinadaily.com.cn.txt (https://www.chinadaily.com.cn/a/202311/28/WS65653269a31090682a5f04e6.html)\n",
      "The text was successfully saved as C:\\Users\\ASUS\\Desktop\\Final Individual\\Tour adds to film crew's cultural understanding - Chinadaily.com.cn.txt (https://www.chinadaily.com.cn/a/202311/27/WS656442a5a31090682a5f0400.html)\n",
      "The text was successfully saved as C:\\Users\\ASUS\\Desktop\\Final Individual\\Crime thriller tops box office - Chinadaily.com.cn.txt (https://www.chinadaily.com.cn/a/202311/27/WS65644204a31090682a5f03fb.html)\n",
      "The text was successfully saved as C:\\Users\\ASUS\\Desktop\\Final Individual\\Crayon Shin-chan's new movie set to hit Chinese mainland on Saturday - Chinadaily.com.cn.txt (https://www.chinadaily.com.cn/a/202311/24/WS6560665ca31090682a5eff80.html)\n",
      "The text was successfully saved as C:\\Users\\ASUS\\Desktop\\Final Individual\\From stage to screen: Program brings Peking Opera to young audiences - Chinadaily.com.cn.txt (https://www.chinadaily.com.cn/a/202311/23/WS655efa68a31090682a5efbc2.html)\n",
      "The text was successfully saved as C:\\Users\\ASUS\\Desktop\\Final Individual\\Medical drama takes TV beyond borders - Chinadaily.com.cn.txt (https://www.chinadaily.com.cn/a/202311/22/WS655dba54a31090682a5ef885.html)\n",
      "The text was successfully saved as C:\\Users\\ASUS\\Desktop\\Final Individual\\iQIYI announces financial results for the third quarter - Chinadaily.com.cn.txt (https://www.chinadaily.com.cn/a/202311/22/WS655db0eca31090682a5ef868.html)\n",
      "The text was successfully saved as C:\\Users\\ASUS\\Desktop\\Final Individual\\On-screen opera point way to future preservation - Chinadaily.com.cn.txt (https://www.chinadaily.com.cn/a/202311/21/WS655c7c7ca31090682a5ef552.html)\n",
      "The text was successfully saved as C:\\Users\\ASUS\\Desktop\\Final Individual\\The Italian touch comes to cinemas in China - Chinadaily.com.cn.txt (https://www.chinadaily.com.cn/a/202311/21/WS655c4a83a31090682a5ef4b2.html)\n",
      "The text was successfully saved as C:\\Users\\ASUS\\Desktop\\Final Individual\\German Film Festival opens in Beijing - Chinadaily.com.cn.txt (https://www.chinadaily.com.cn/a/202311/20/WS655b01a7a31090682a5ef1a4.html)\n",
      "The text was successfully saved as C:\\Users\\ASUS\\Desktop\\Final Individual\\Hoping for a towering success - Chinadaily.com.cn.txt (https://www.chinadaily.com.cn/a/202311/20/WS655aa34da31090682a5ef020.html)\n",
      "The text was successfully saved as C:\\Users\\ASUS\\Desktop\\Final Individual\\Film festival holds screenings, talks in Yantai - Chinadaily.com.cn.txt (https://www.chinadaily.com.cn/a/202311/17/WS65570ddba31090682a5eec5f.html)\n",
      "The text was successfully saved as C:\\Users\\ASUS\\Desktop\\Final Individual\\Xin Yukun film explores internet phenomenon - Chinadaily.com.cn.txt (https://www.chinadaily.com.cn/a/202311/15/WS65546616a31090682a5ee4a5.html)\n",
      "The text was successfully saved as C:\\Users\\ASUS\\Desktop\\Final Individual\\Maoyan reveals upcoming film releases - Chinadaily.com.cn.txt (https://www.chinadaily.com.cn/a/202311/15/WS655464c7a31090682a5ee49b.html)\n",
      "The text was successfully saved as C:\\Users\\ASUS\\Desktop\\Final Individual\\Discoveries enhancing our story - Chinadaily.com.cn.txt (https://www.chinadaily.com.cn/a/202311/14/WS6552b56ea31090682a5edf90.html)\n",
      "The text was successfully saved as C:\\Users\\ASUS\\Desktop\\Final Individual\\Sporty films win awards - Chinadaily.com.cn.txt (https://www.chinadaily.com.cn/a/202311/13/WS6551d399a31090682a5edeb7.html)\n",
      "The text was successfully saved as C:\\Users\\ASUS\\Desktop\\Final Individual\\Travel show on song with celebrities - Chinadaily.com.cn.txt (https://www.chinadaily.com.cn/a/202311/13/WS6551c818a31090682a5ede6b.html)\n",
      "The text was successfully saved as C:\\Users\\ASUS\\Desktop\\Final Individual\\New martial arts fantasy drama announced - Chinadaily.com.cn.txt (https://www.chinadaily.com.cn/a/202311/13/WS6551c684a31090682a5ede5f.html)\n",
      "The text was successfully saved as C:\\Users\\ASUS\\Desktop\\Final Individual\\TV series takes high road to depict Guizhou's 'museum of bridges' - Chinadaily.com.cn.txt (https://www.chinadaily.com.cn/a/202311/13/WS6551c35ea31090682a5ede46.html)\n",
      "The text was successfully saved as C:\\Users\\ASUS\\Desktop\\Final Individual\\Chinese film is a departure for Takita - Chinadaily.com.cn.txt (https://www.chinadaily.com.cn/a/202311/13/WS65516bfca31090682a5edc4d.html)\n",
      "The text was successfully saved as C:\\Users\\ASUS\\Desktop\\Final Individual\\Experts at Chengdu gathering find space to discuss - Chinadaily.com.cn.txt (https://www.chinadaily.com.cn/a/202311/11/WS654f004ea31090682a5edb1a.html)\n",
      "The text was successfully saved as C:\\Users\\ASUS\\Desktop\\Final Individual\\Sport film's special perspective encourages overlooked players - Chinadaily.com.cn.txt (https://www.chinadaily.com.cn/a/202311/10/WS654df2c0a31090682a5ed9f4.html)\n",
      "The text was successfully saved as C:\\Users\\ASUS\\Desktop\\Final Individual\\Chinese writer on history, culture and mass media - Chinadaily.com.cn.txt (https://www.chinadaily.com.cn/a/202311/08/WS654b49bfa31090682a5ed24d.html)\n",
      "The text was successfully saved as C:\\Users\\ASUS\\Desktop\\Final Individual\\A long wait for Wandering Earth 3 - Chinadaily.com.cn.txt (https://www.chinadaily.com.cn/a/202311/07/WS6549e398a31090682a5ece40.html)\n",
      "The text was successfully saved as C:\\Users\\ASUS\\Desktop\\Final Individual\\Hitmakers reunite to tell tale of Dunhuang Warriors - Chinadaily.com.cn.txt (https://www.chinadaily.com.cn/a/202311/07/WS6549d5e5a31090682a5ece0c.html)\n",
      "The text was successfully saved as C:\\Users\\ASUS\\Desktop\\Final Individual\\Cinematic spy thriller has real-life repercussions - Chinadaily.com.cn.txt (https://www.chinadaily.com.cn/a/202311/06/WS654899aaa31090682a5ecac5.html)\n",
      "The text was successfully saved as C:\\Users\\ASUS\\Desktop\\Final Individual\\'Creation of the Gods' wins big - Chinadaily.com.cn.txt (https://www.chinadaily.com.cn/a/202311/06/WS65484a0da31090682a5ec933.html)\n",
      "The text was successfully saved as C:\\Users\\ASUS\\Desktop\\Final Individual\\36th China Golden Rooster Awards winners announced - Chinadaily.com.cn.txt (https://www.chinadaily.com.cn/a/202311/05/WS6546df55a31090682a5ec72b.html)\n",
      "The text was successfully saved as C:\\Users\\ASUS\\Desktop\\Final Individual\\China's Golden Rooster Awards winners announced - Chinadaily.com.cn.txt (https://www.chinadaily.com.cn/a/202311/05/WS65468b87a31090682a5ec707.html)\n",
      "The text was successfully saved as C:\\Users\\ASUS\\Desktop\\Final Individual\\iQIYI launches AI search, featuring 'one-click plot discovery' - Chinadaily.com.cn.txt (https://www.chinadaily.com.cn/a/202311/03/WS6544950ca31090682a5ec4c2.html)\n",
      "The text was successfully saved as C:\\Users\\ASUS\\Desktop\\Final Individual\\Animation conference looks to the future - Chinadaily.com.cn.txt (https://www.chinadaily.com.cn/a/202311/02/WS654309fea31090682a5ec0f7.html)\n",
      "The text was successfully saved as C:\\Users\\ASUS\\Desktop\\Final Individual\\The taste of history is a good recipe - Chinadaily.com.cn.txt (https://www.chinadaily.com.cn/a/202311/02/WS6542dff4a31090682a5ebf86.html)\n",
      "The text was successfully saved as C:\\Users\\ASUS\\Desktop\\Final Individual\\Filmmakers share insights into industry's development at festival - Chinadaily.com.cn.txt (https://www.chinadaily.com.cn/a/202311/01/WS65426a5aa31090682a5ebf1d.html)\n",
      "The text was successfully saved as C:\\Users\\ASUS\\Desktop\\Final Individual\\Tibetan film opens to domestic acclaim - Chinadaily.com.cn.txt (https://www.chinadaily.com.cn/a/202311/01/WS6541cd8ca31090682a5ebde8.html)\n",
      "The text was successfully saved as C:\\Users\\ASUS\\Desktop\\Final Individual\\Hou Jingjian reprises Mao role for TV series - Chinadaily.com.cn.txt (https://www.chinadaily.com.cn/a/202311/01/WS6541cafaa31090682a5ebdda.html)\n"
     ]
    }
   ],
   "source": [
    "# Import required libraries\n",
    "import requests\n",
    "from bs4 import BeautifulSoup\n",
    "import os\n",
    "\n",
    "# Insert URLs\n",
    "urls = [\n",
    "    \"https://www.chinadaily.com.cn/a/202311/30/WS65683a34a31090682a5f0cc3.html\",\n",
    "    \"https://www.chinadaily.com.cn/a/202311/30/WS65680df3a31090682a5f0c39.html\",\n",
    "    \"https://www.chinadaily.com.cn/a/202311/29/WS6566ec00a31090682a5f09a4.html\",\n",
    "    \"https://www.chinadaily.com.cn/a/202311/29/WS6566dc9fa31090682a5f0958.html\",\n",
    "    \"https://www.chinadaily.com.cn/a/202311/28/WS65653269a31090682a5f04e6.html\",\n",
    "    \"https://www.chinadaily.com.cn/a/202311/27/WS656442a5a31090682a5f0400.html\",\n",
    "    \"https://www.chinadaily.com.cn/a/202311/27/WS65644204a31090682a5f03fb.html\",\n",
    "    \"https://www.chinadaily.com.cn/a/202311/24/WS6560665ca31090682a5eff80.html\",\n",
    "    \"https://www.chinadaily.com.cn/a/202311/23/WS655efa68a31090682a5efbc2.html\",\n",
    "    \"https://www.chinadaily.com.cn/a/202311/22/WS655dba54a31090682a5ef885.html\",\n",
    "    \"https://www.chinadaily.com.cn/a/202311/22/WS655db0eca31090682a5ef868.html\",\n",
    "    \"https://www.chinadaily.com.cn/a/202311/21/WS655c7c7ca31090682a5ef552.html\",\n",
    "    \"https://www.chinadaily.com.cn/a/202311/21/WS655c4a83a31090682a5ef4b2.html\",\n",
    "    \"https://www.chinadaily.com.cn/a/202311/20/WS655b01a7a31090682a5ef1a4.html\",\n",
    "    \"https://www.chinadaily.com.cn/a/202311/20/WS655aa34da31090682a5ef020.html\",\n",
    "    \"https://www.chinadaily.com.cn/a/202311/17/WS65570ddba31090682a5eec5f.html\",\n",
    "    \"https://www.chinadaily.com.cn/a/202311/15/WS65546616a31090682a5ee4a5.html\",\n",
    "    \"https://www.chinadaily.com.cn/a/202311/15/WS655464c7a31090682a5ee49b.html\",\n",
    "    \"https://www.chinadaily.com.cn/a/202311/14/WS6552b56ea31090682a5edf90.html\",\n",
    "    \"https://www.chinadaily.com.cn/a/202311/13/WS6551d399a31090682a5edeb7.html\",\n",
    "    \"https://www.chinadaily.com.cn/a/202311/13/WS6551c818a31090682a5ede6b.html\",\n",
    "    \"https://www.chinadaily.com.cn/a/202311/13/WS6551c684a31090682a5ede5f.html\",\n",
    "    \"https://www.chinadaily.com.cn/a/202311/13/WS6551c35ea31090682a5ede46.html\",\n",
    "    \"https://www.chinadaily.com.cn/a/202311/13/WS65516bfca31090682a5edc4d.html\",\n",
    "    \"https://www.chinadaily.com.cn/a/202311/11/WS654f004ea31090682a5edb1a.html\",\n",
    "    \"https://www.chinadaily.com.cn/a/202311/10/WS654df2c0a31090682a5ed9f4.html\",\n",
    "    \"https://www.chinadaily.com.cn/a/202311/08/WS654b49bfa31090682a5ed24d.html\",\n",
    "    \"https://www.chinadaily.com.cn/a/202311/07/WS6549e398a31090682a5ece40.html\",\n",
    "    \"https://www.chinadaily.com.cn/a/202311/07/WS6549d5e5a31090682a5ece0c.html\",\n",
    "    \"https://www.chinadaily.com.cn/a/202311/06/WS654899aaa31090682a5ecac5.html\",\n",
    "    \"https://www.chinadaily.com.cn/a/202311/06/WS65484a0da31090682a5ec933.html\",\n",
    "    \"https://www.chinadaily.com.cn/a/202311/05/WS6546df55a31090682a5ec72b.html\",\n",
    "    \"https://www.chinadaily.com.cn/a/202311/05/WS65468b87a31090682a5ec707.html\",\n",
    "    \"https://www.chinadaily.com.cn/a/202311/03/WS6544950ca31090682a5ec4c2.html\",\n",
    "    \"https://www.chinadaily.com.cn/a/202311/02/WS654309fea31090682a5ec0f7.html\",\n",
    "    \"https://www.chinadaily.com.cn/a/202311/02/WS6542dff4a31090682a5ebf86.html\",\n",
    "    \"https://www.chinadaily.com.cn/a/202311/01/WS65426a5aa31090682a5ebf1d.html\",\n",
    "    \"https://www.chinadaily.com.cn/a/202311/01/WS6541cd8ca31090682a5ebde8.html\",\n",
    "    \"https://www.chinadaily.com.cn/a/202311/01/WS6541cafaa31090682a5ebdda.html\"\n",
    "]\n",
    "\n",
    "# Define the target folder to save txt files\n",
    "target_folder = r'.\data\'\n",
    "\n",
    "for url in urls:\n",
    "    # Send the request and get the page content\n",
    "    response = requests.get(url)\n",
    "    html_content = response.text\n",
    "\n",
    "    # Use BeautifulSoup to parse the page content\n",
    "    soup = BeautifulSoup(html_content, 'html.parser')\n",
    "\n",
    "    # Acquire the title\n",
    "    title_tag = soup.find('title')\n",
    "    page_title = title_tag.text if title_tag else \"untitled\"\n",
    "\n",
    "    # Find the div with the specified id\n",
    "    content_div = soup.find('div', id='Content')\n",
    "\n",
    "    # Check if a matching element is found\n",
    "    if content_div:\n",
    "        # Get the text content inside the div\n",
    "        text_content = content_div.get_text()\n",
    "\n",
    "        # Save the text content to a txt file in the target folder, named after the title\n",
    "        filename = os.path.join(target_folder, f\"{page_title}.txt\")\n",
    "        with open(filename, 'w', encoding='utf-8') as file:\n",
    "            file.write(text_content)\n",
    "\n",
    "        print(f\"The text was successfully saved as {filename} ({url})\")\n",
    "    else:\n",
    "        print(f\"No matching element is found ({url})\")"
   ]
  },
  {
   "cell_type": "code",
   "execution_count": 3,
   "id": "13a763db",
   "metadata": {},
   "outputs": [],
   "source": [
    "# Import required libraries\n",
    "import pandas as pd\n",
    "import nltk\n",
    "from nltk.tokenize import word_tokenize\n",
    "from nltk.stem import WordNetLemmatizer\n",
    "from nltk import pos_tag\n",
    "from nltk.corpus import stopwords"
   ]
  },
  {
   "cell_type": "code",
   "execution_count": 4,
   "id": "6a7de869",
   "metadata": {},
   "outputs": [
    {
     "name": "stderr",
     "output_type": "stream",
     "text": [
      "[nltk_data] Downloading package punkt to\n",
      "[nltk_data]     C:\\Users\\ASUS\\AppData\\Roaming\\nltk_data...\n",
      "[nltk_data]   Package punkt is already up-to-date!\n",
      "[nltk_data] Downloading package wordnet to\n",
      "[nltk_data]     C:\\Users\\ASUS\\AppData\\Roaming\\nltk_data...\n",
      "[nltk_data]   Package wordnet is already up-to-date!\n",
      "[nltk_data] Downloading package stopwords to\n",
      "[nltk_data]     C:\\Users\\ASUS\\AppData\\Roaming\\nltk_data...\n",
      "[nltk_data]   Package stopwords is already up-to-date!\n",
      "[nltk_data] Downloading package averaged_perceptron_tagger to\n",
      "[nltk_data]     C:\\Users\\ASUS\\AppData\\Roaming\\nltk_data...\n",
      "[nltk_data]   Package averaged_perceptron_tagger is already up-to-\n",
      "[nltk_data]       date!\n"
     ]
    },
    {
     "data": {
      "text/plain": [
       "True"
      ]
     },
     "execution_count": 4,
     "metadata": {},
     "output_type": "execute_result"
    }
   ],
   "source": [
    "# Download NLTK data\n",
    "nltk.download('punkt')\n",
    "nltk.download('wordnet')\n",
    "nltk.download('stopwords')\n",
    "nltk.download('averaged_perceptron_tagger')"
   ]
  },
  {
   "cell_type": "code",
   "execution_count": 5,
   "id": "c16b844f",
   "metadata": {},
   "outputs": [],
   "source": [
    "# Define a function to remove space and figure notes\n",
    "def clean_text(text):\n",
    "    text = re.sub(r'\\n\\s*\\n', '\\n', text)\n",
    "    text = re.sub(r'^\\s+', '', text, flags=re.MULTILINE)\n",
    "    text = re.sub(r'\\[.*?\\]', '', text)\n",
    "\n",
    "    return text"
   ]
  },
  {
   "cell_type": "code",
   "execution_count": 6,
   "id": "a9b4325d",
   "metadata": {},
   "outputs": [],
   "source": [
    "# Define a function to process texts\n",
    "def preprocess_text(text):\n",
    "    # Get a collection of English stopwords\n",
    "    stop_words = set(stopwords.words('english'))\n",
    "    # Tokenization\n",
    "    tokens = word_tokenize(text)\n",
    "    tokens = [word.lower() for word in tokens if word.isalpha() and word.lower() not in stop_words]\n",
    "    # Lemmatization\n",
    "    lemmatizer = WordNetLemmatizer()\n",
    "    lemmas = [lemmatizer.lemmatize(word) for word in tokens]\n",
    "    # POS tagging\n",
    "    pos_tags = pos_tag(tokens)\n",
    "    return tokens, lemmas, pos_tags"
   ]
  },
  {
   "cell_type": "code",
   "execution_count": 7,
   "id": "6292eec1",
   "metadata": {},
   "outputs": [],
   "source": [
    "# Process each file\n",
    "def process_file(file_path):\n",
    "    with open(file_path, 'r', encoding='utf-8') as file:\n",
    "        text = file.read()\n",
    "        tokens, lemmas, pos_tags = preprocess_text(text)\n",
    "        cleaned_text = ' '.join(tokens)  \n",
    "        return text, cleaned_text, tokens, lemmas, pos_tags"
   ]
  },
  {
   "cell_type": "code",
   "execution_count": 8,
   "id": "e010e929",
   "metadata": {},
   "outputs": [],
   "source": [
    "# Create a list to store data\n",
    "data = []\n",
    "\n",
    "# Acquire the folder path\n",
    "folder_path = r'C:\\Users\\ASUS\\Desktop\\Final Individual'"
   ]
  },
  {
   "cell_type": "code",
   "execution_count": 9,
   "id": "68623c79",
   "metadata": {},
   "outputs": [],
   "source": [
    "# Loop through all the files in the folder\n",
    "for filename in os.listdir(folder_path):\n",
    "    if filename.endswith(\".txt\"):\n",
    "        file_path = os.path.join(folder_path, filename)\n",
    "        # Call the function for each file\n",
    "        text, cleaned_text, tokens, lemmas, pos_tags = process_file(file_path)\n",
    "        # Add data\n",
    "        data.append({\n",
    "            'Filename': filename,\n",
    "            'Document': text,\n",
    "            'Text': cleaned_text,\n",
    "            'Tokens': tokens,\n",
    "            'Lemmas': lemmas,\n",
    "            'Parts-of-speech': pos_tags\n",
    "        })"
   ]
  },
  {
   "cell_type": "code",
   "execution_count": 10,
   "id": "10c17485",
   "metadata": {},
   "outputs": [],
   "source": [
    "# Create DataFrame\n",
    "df = pd.DataFrame(data)"
   ]
  },
  {
   "cell_type": "code",
   "execution_count": 11,
   "id": "0207f640",
   "metadata": {},
   "outputs": [],
   "source": [
    "# Save DataFrame as a CSV\n",
    "csv_filename = 'output.csv'\n",
    "df.to_csv(csv_filename, index=False)"
   ]
  }
 ],
 "metadata": {
  "kernelspec": {
   "display_name": "Python 3 (ipykernel)",
   "language": "python",
   "name": "python3"
  },
  "language_info": {
   "codemirror_mode": {
    "name": "ipython",
    "version": 3
   },
   "file_extension": ".py",
   "mimetype": "text/x-python",
   "name": "python",
   "nbconvert_exporter": "python",
   "pygments_lexer": "ipython3",
   "version": "3.11.4"
  }
 },
 "nbformat": 4,
 "nbformat_minor": 5
}
